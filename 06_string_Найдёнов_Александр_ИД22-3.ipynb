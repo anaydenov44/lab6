{
 "cells": [
  {
   "cell_type": "markdown",
   "metadata": {},
   "source": [
    "# Работа со строковыми значениями"
   ]
  },
  {
   "cell_type": "markdown",
   "metadata": {},
   "source": [
    "__Автор задач: Блохин Н.В. (NVBlokhin@fa.ru)__\n",
    "\n",
    "Материалы:\n",
    "* Макрушин С.В. Лекция \"Работа со строковыми значениям\"\n",
    "* https://pyformat.info/\n",
    "* https://docs.python.org/3/library/re.html\n",
    "    * https://docs.python.org/3/library/re.html#flags\n",
    "    * https://docs.python.org/3/library/re.html#functions\n",
    "* https://pythonru.com/primery/primery-primeneniya-regulyarnyh-vyrazheniy-v-python\n",
    "* https://kanoki.org/2019/11/12/how-to-use-regex-in-pandas/\n",
    "* https://realpython.com/nltk-nlp-python/"
   ]
  },
  {
   "cell_type": "markdown",
   "metadata": {},
   "source": [
    "## Лабораторная работа 6"
   ]
  },
  {
   "cell_type": "code",
   "execution_count": 27,
   "metadata": {},
   "outputs": [],
   "source": [
    "import pandas as pd\n",
    "import xml.etree.ElementTree as ET\n",
    "import re\n",
    "import nltk\n",
    "# nltk.download()\n",
    "# nltk.download('punkt')\n",
    "from nltk.tokenize import word_tokenize\n",
    "from nltk.tokenize import sent_tokenize"
   ]
  },
  {
   "cell_type": "markdown",
   "metadata": {},
   "source": [
    "### Форматирование строк"
   ]
  },
  {
   "cell_type": "markdown",
   "metadata": {},
   "source": [
    "1\\. Загрузите данные из файла `recipes_sample.csv` (__ЛР2__) в виде `pd.DataFrame` `recipes` При помощи форматирования строк выведите информацию об id рецепта и времени выполнения 5 случайных рецептов в виде таблицы следующего вида:\n",
    "\n",
    "    \n",
    "    |      id      |  minutes  |\n",
    "    |--------------------------|\n",
    "    |    61178     |    65     |\n",
    "    |    202352    |    80     |\n",
    "    |    364322    |    150    |\n",
    "    |    26177     |    20     |\n",
    "    |    224785    |    35     |\n",
    "    \n",
    "Обратите внимание, что ширина столбцов заранее неизвестна и должна рассчитываться динамически, в зависимости от тех данных, которые были выбраны. "
   ]
  },
  {
   "cell_type": "code",
   "execution_count": 28,
   "metadata": {},
   "outputs": [
    {
     "name": "stdout",
     "output_type": "stream",
     "text": [
      "|      id      |  minutes  |\n",
      "|--------------------------|\n",
      "|    188900    |    65     |\n",
      "|    165892    |    75     |\n",
      "|    57143     |    10     |\n",
      "|    187535    |    40     |\n",
      "|    130100    |   2895    |\n"
     ]
    }
   ],
   "source": [
    "df = pd.read_csv(\"C:\\\\Users\\\\sankl\\\\Downloads\\\\recipes_sample.csv\")\n",
    "df = df.iloc[:, 1:3]\n",
    "df.dropna()\n",
    "df = df.sample(5)\n",
    "print(\"|      id      |  minutes  |\\n|--------------------------|\")\n",
    "for idx, row in df.iterrows():\n",
    "    print(f\"|{row[0]:^14}|{row[1]:^11}|\")"
   ]
  },
  {
   "cell_type": "markdown",
   "metadata": {},
   "source": [
    "2\\. Напишите функцию `show_info`, которая по данным о рецепте создает строку (в смысле объекта python) с описанием следующего вида:\n",
    "\n",
    "```\n",
    "\"Название Из Нескольких Слов\"\n",
    "\n",
    "1. Шаг 1\n",
    "2. Шаг 2\n",
    "----------\n",
    "Автор: contributor_id\n",
    "Среднее время приготовления: minutes минут\n",
    "```\n",
    "\n",
    "    \n",
    "Данные для создания строки получите из файлов `recipes_sample.csv` (__ЛР2__) и `steps_sample.xml` (__ЛР3__). \n",
    "Вызовите данную функцию для рецепта с id `170895` и выведите (через `print`) полученную строку на экран."
   ]
  },
  {
   "cell_type": "code",
   "execution_count": 29,
   "metadata": {},
   "outputs": [
    {
     "name": "stdout",
     "output_type": "stream",
     "text": [
      "Leeks And Parsnips  Sauteed Or Creamed\n",
      "\n",
      "Step 1 clean the leeks and discard the dark green portions\n",
      "Step 2 cut the leeks lengthwise then into one-inch pieces\n",
      "Step 3 melt the butter in a medium skillet , med\n",
      "Step 4 heat\n",
      "Step 5 add the garlic and fry 'til fragrant\n",
      "Step 6 add leeks and fry until the leeks are tender , about 6-minutes\n",
      "Step 7 meanwhile , peel and chunk the parsnips into one-inch pieces\n",
      "Step 8 place in a steaming basket and steam 'til they are as tender as you prefer\n",
      "Step 9 i like them fork-tender\n",
      "Step 10 drain parsnips and add to the skillet with the leeks\n",
      "Step 11 add salt and pepper\n",
      "Step 12 gently sautee together for 5-minutes\n",
      "Step 13 at this point you can serve it , or continue on and cream it:\n",
      "Step 14 in a jar with a screw top , add the half-n-half and arrowroot\n",
      "Step 15 shake 'til blended\n",
      "Step 16 turn heat to low under the leeks and parsnips\n",
      "Step 17 pour in the arrowroot mixture , stirring gently as you pour\n",
      "Step 18 if too thick , gradually add the water\n",
      "Step 19 let simmer for a couple of minutes\n",
      "Step 20 taste to adjust seasoning , probably an additional 1 / 2 teaspoon salt\n",
      "Step 21 serve warm\n",
      "----------\n",
      "Автор: 8377\n",
      "Среднее время приготовления: 27 минут\n"
     ]
    }
   ],
   "source": [
    "recipes = pd.read_csv(\"C:\\\\Users\\\\sankl\\\\Downloads\\\\recipes_sample.csv\")\n",
    "tree = ET.parse('C:\\\\Users\\\\sankl\\\\Downloads\\\\steps_sample.xml')\n",
    "root = tree.getroot()\n",
    "def show_info(id1):\n",
    "    recipe = recipes[recipes['id'] == id1].iloc[0]\n",
    "    steps = root.findall(\".//recipe[id='\" + str(id1) + \"']/steps/step\")\n",
    "    name, author = recipe[\"name\"].title(), f\"Автор: {str(recipe['contributor_id'])}\"\n",
    "    minutes = f\"Среднее время приготовления: {str(recipe['minutes'])} минут\"\n",
    "    all_steps = \"\\n\".join([f\"Step {i} {step.text}\" for i, step in enumerate(steps, start = 1)])\n",
    "    return f\"{name}\\n\\n{all_steps}\\n----------\\n{author}\\n{minutes}\"\n",
    "s = show_info(170895)\n",
    "print(s)\n",
    "    "
   ]
  },
  {
   "cell_type": "code",
   "execution_count": 30,
   "metadata": {},
   "outputs": [],
   "source": [
    "# assert (\n",
    "#     show_info(\n",
    "#         name=\"george s at the cove black bean soup\",\n",
    "#         steps=[\n",
    "#             \"clean the leeks and discard the dark green portions\",\n",
    "#             \"cut the leeks lengthwise then into one-inch pieces\",\n",
    "#             \"melt the butter in a medium skillet , med\",\n",
    "#         ],\n",
    "#         minutes=90,\n",
    "#         author_id=35193,\n",
    "#     )\n",
    "#     == '\"George S At The Cove Black Bean Soup\"\\n\\n1. Clean the leeks and discard the dark green portions\\n2. Cut the leeks lengthwise then into one-inch pieces\\n3. Melt the butter in a medium skillet , med\\n----------\\nАвтор: 35193\\nСреднее время приготовления: 90 минут\\n'\n",
    "# )"
   ]
  },
  {
   "cell_type": "markdown",
   "metadata": {},
   "source": [
    "## Работа с регулярными выражениями"
   ]
  },
  {
   "cell_type": "markdown",
   "metadata": {},
   "source": [
    "3\\. Напишите регулярное выражение, которое ищет следующий паттерн в строке: число (1 цифра или более), затем пробел, затем слова: hour или hours или minute или minutes. Произведите поиск по данному регулярному выражению в каждом шаге рецепта с id 25082. Выведите на экран все непустые результаты, найденные по данному шаблону."
   ]
  },
  {
   "cell_type": "code",
   "execution_count": 31,
   "metadata": {},
   "outputs": [
    {
     "data": {
      "text/plain": [
       "['20 minutes',\n",
       " '10 minutes',\n",
       " '2 hours',\n",
       " '10 minutes',\n",
       " '20 minutes',\n",
       " '30 minutes']"
      ]
     },
     "execution_count": 31,
     "metadata": {},
     "output_type": "execute_result"
    }
   ],
   "source": [
    "recipe_info = show_info(25082)\n",
    "p=re.findall(r'([0-9]+ hour?s?|[0-9]+ minute?s?)', recipe_info)\n",
    "p"
   ]
  },
  {
   "cell_type": "markdown",
   "metadata": {},
   "source": [
    "4\\. Напишите регулярное выражение, которое ищет шаблон вида \"this..., but\" _в начале строки_ . Между словом \"this\" и частью \", but\" может находиться произвольное число букв, цифр, знаков подчеркивания и пробелов. Никаких других символов вместо многоточия быть не может. Пробел между запятой и словом \"but\" может присутствовать или отсутствовать.\n",
    "\n",
    "Используя строковые методы `pd.Series`, выясните, для каких рецептов данный шаблон содержится в тексте описания. Выведите на экран количество таких рецептов и 3 примера подходящих описаний (текст описания должен быть виден на экране полностью)."
   ]
  },
  {
   "cell_type": "code",
   "execution_count": 32,
   "metadata": {},
   "outputs": [
    {
     "name": "stdout",
     "output_type": "stream",
     "text": [
      "Количество рецептов, подходящих под шаблон: 134\n",
      "\n",
      "76     this is a great meal eaten the same day ,but e...\n",
      "183    this was adapted from a recipe i found on the ...\n",
      "337    this is kind of similar to some of the other v...\n"
     ]
    }
   ],
   "source": [
    "pattern = re.compile(r'^this[\\w\\s]+,\\s?but')\n",
    "matches1 = recipes['description'].str.contains(pattern,na=False)\n",
    "print(f'Количество рецептов, подходящих под шаблон: {matches1.sum()}\\n')\n",
    "print(recipes.loc[matches1, 'description'].head(3).to_string())"
   ]
  },
  {
   "cell_type": "markdown",
   "metadata": {},
   "source": [
    "5\\. В текстах шагов рецептов обыкновенные дроби имеют вид \"a / b\". Используя регулярные выражения, уберите в тексте шагов рецепта с id 72367 пробелы до и после символа дроби. Выведите на экран шаги этого рецепта после их изменения."
   ]
  },
  {
   "cell_type": "code",
   "execution_count": 33,
   "metadata": {},
   "outputs": [
    {
     "name": "stdout",
     "output_type": "stream",
     "text": [
      "1. mix butter , flour , 1 / 3 c\n",
      "2. sugar and 1-1 / 4 t\n",
      "3. vanilla\n",
      "4. press into greased 9\" springform pan\n",
      "5. mix cream cheese , 1 / 4 c\n",
      "6. sugar , eggs and 1 / 2 t\n",
      "7. vanilla beating until fluffy\n",
      "8. pour over dough\n",
      "9. combine apples , 1 / 3 c\n",
      "10. sugar and cinnamon\n",
      "11. arrange on top of cream cheese mixture and sprinkle with almonds\n",
      "12. bake at 350 for 45-55 minutes , or until tester comes out clean\n",
      "\n",
      " 1. mix butter , flour , 1/3 c\n",
      "2. sugar and 1-1/4 t\n",
      "3. vanilla\n",
      "4. press into greased 9\" springform pan\n",
      "5. mix cream cheese , 1/4 c\n",
      "6. sugar , eggs and 1/2 t\n",
      "7. vanilla beating until fluffy\n",
      "8. pour over dough\n",
      "9. combine apples , 1/3 c\n",
      "10. sugar and cinnamon\n",
      "11. arrange on top of cream cheese mixture and sprinkle with almonds\n",
      "12. bake at 350 for 45-55 minutes , or until tester comes out clean\n"
     ]
    }
   ],
   "source": [
    "recipe_steps = root.findall(\".//recipe[id='\" + str(72367) + \"']/steps/step\")\n",
    "text = \"\\n\".join([str(i+1) + \". \" + step.text for i, step in enumerate(recipe_steps)])\n",
    "print(text)\n",
    "text = re.sub(r'([0-9]+) / ([0-9]+)',r'\\1/\\2', text)\n",
    "print('\\n', text)"
   ]
  },
  {
   "cell_type": "markdown",
   "metadata": {},
   "source": [
    "### Сегментация текста"
   ]
  },
  {
   "cell_type": "markdown",
   "metadata": {},
   "source": [
    "6\\. Разбейте тексты шагов рецептов на слова при помощи пакета `nltk`. Посчитайте и выведите на экран кол-во уникальных слов среди всех рецептов. Словом называется любая последовательность алфавитных символов (для проверки можно воспользоваться `str.isalpha`). При подсчете количества уникальных слов не учитывайте регистр."
   ]
  },
  {
   "cell_type": "code",
   "execution_count": 34,
   "metadata": {},
   "outputs": [
    {
     "name": "stdout",
     "output_type": "stream",
     "text": [
      "9232\n"
     ]
    }
   ],
   "source": [
    "from bs4 import BeautifulSoup\n",
    "with open('steps_sample.xml') as f:\n",
    "    file = BeautifulSoup(f, 'xml')\n",
    "n_id=file.find_all('id')\n",
    "steps=file.find_all('steps')\n",
    "s = ''\n",
    "for i in steps:\n",
    "    s+=i.text.lower()\n",
    "s.replace('\\n','')\n",
    "\n",
    "words = nltk.tokenize.word_tokenize(s)\n",
    "dict1 = nltk.FreqDist(words)\n",
    "\n",
    "dictionary = {word: freq for word, freq in dict1.items() if word.isalpha and freq ==1}\n",
    "dictionary\n",
    "print(len(dictionary))"
   ]
  },
  {
   "cell_type": "markdown",
   "metadata": {},
   "source": [
    "7\\. Разбейте описания рецептов из `recipes` на предложения при помощи пакета `nltk`. Найдите 5 самых длинных описаний (по количеству _предложений_) рецептов в датасете и выведите строки фрейма, соответствующие этим рецептами, в порядке убывания длины."
   ]
  },
  {
   "cell_type": "code",
   "execution_count": 35,
   "metadata": {},
   "outputs": [
    {
     "name": "stdout",
     "output_type": "stream",
     "text": [
      "76\n",
      "this wonderful icing is used for icing cakes and cookies as well as for borders and art work on cakes.  it makes a delicious filling also between the layers of cakes and under fondant icing.  you can make roses but it takes 3 or more days to dry them depending on the humidity. \r\n",
      "\r\n",
      "there are many versions of “buttercream” icing. some are made with eggs and all butter.  some varieties, you have to cook your sugar to a softball stage.  others are 100% shortening or a combination of shortening and butter.\r\n",
      "\r\n",
      "each decorator has his or her favorite.  i personally think that the best taste and textured recipe is the one that has you cook your sugar, add to whipped eggs and use pounds of butter per batch. but…. i live in a state that can easily be a 100 degrees for days on end during the summer and you know what butter does on hot days.  it melts!  a greasy puddle of melted icing on a cake plate is not something i want to look at or eat.  \r\n",
      "\r\n",
      "your top notch decorators have a few options we don’t.  they have huge refrigerators to store their cakes in, and refrigerated vehicles that they can use to deliver decorated cakes. i even know a few that refuse to deliver at all. if you want their cake, you come and get it and it’s your responsibility if it melts.  these decorators don’t even turn on their ovens for a wedding cake for less than $2000.  \r\n",
      "\r\n",
      "the following recipes for buttercream icing hold up pretty well in the heat and humidity, but if you know that your cake will be out in very high temperatures, then don’t use any butter and use only a high quality shortening.  \r\n",
      "\r\n",
      "shortening:  \r\n",
      "\r\n",
      "solid shortenings definitely have their place in baking. so i’m going to talk taste tests. crisco is the hands down winner. it has a clean taste with the melting point of 106 degrees. butter melts somewhere between 88 and 98 degrees f. depending on the amount of fat in the brand.  you can see that if you need to serve a pure buttercream decorated cake, on a hot august afternoon, you could have melted roses (and i do mean greasy puddles) on the tablecloth. this is when a good quality shortening will be a great blessing. i have been told by decorator friends that some of the warehouse brand shortenings leave a grainy consistency to the icing no matter what you do.  \r\n",
      "\r\n",
      "powdered (confectioner's) sugar:  \r\n",
      "\r\n",
      "regarding powdered sugar. please use a cane sugar. i prefer c&h powdered (confectioners) sugar.  many of the cheaper brands use sugar beets for their base.  i don’t know the chemistry behind it but you definitely get different textures to your icing that can vary from batch to batch.  i spent a few months being very frustrated with the quality of my icing until a kind lady did a bit of trouble shooting for me. she recommended the cane sugar and i’ve been blessing her ever since.\r\n",
      "\r\n",
      "top-quality brands:  \r\n",
      "\r\n",
      "please be safe, buy a quality brands and then stick with it for the best results. a friend of mine, who is a wonderful cook and baker, travels a lot and she often prepares treats for her hosts. she’s learned to ask the host to have her favorite shortening and flour on hand. she has even made up a little makeup type case that carries her favorite extracts and precious spices. that way she knows what she is working with, how it handles, and what tastes she can expect for the finished product. some surprises are not pleasant. \r\n",
      "\r\n",
      "storing buttercream icing: \r\n",
      "\r\n",
      "if you are not going to be using the icing right away, place it in a clean, sealable bowl. store it in the refrigerator but please don’t place it next to the marinating salmon, garlic or broccoli.  you do not want those flavors in your icing!  i like to use my icing within a few days but it will hold in the cold refrigerator for a couple of weeks if necessary.  \r\n",
      "\r\n",
      "i often make a double batch of icing the night before i have a baking project.  that way i know that i have plenty of icing, it’s fresh and i don’t have to make it while i’m in the middle of baking the cakes.  the extra can always be used for a batch of cupcakes.\r\n",
      "\r\n",
      "when you remove the icing from the refrigerator, you might notice that the icing has taken on a sponge like texture. do yourself a favor and place the icing in a bowl and mix by hand using a back and forth, smashing motion with a spoon or icing spatula. what you want to do is to smash the bubbles out of the icing. this extra step will help to give you the smoothest icing for a pretty top and sides of the cake. i have found that you will get an even better texture of icing if it is at room temperature before you try to do your icing.\r\n",
      "\r\n",
      "bad buttercream icing days:  \r\n",
      "\r\n",
      "one thing that seems very silly but is true. there are bad buttercream days! i’ve asked quite a few decorators about this and every one says “yes, there are lousy days”. i’m not sure what causes the problem. \r\n",
      "\r\n",
      "it could be that every human has bad days so they blame the buttercream. \r\n",
      "\r\n",
      "it may be the humidity or that there is a low pressure system hanging over your town. \r\n",
      "\r\n",
      "i just know why but it is a perceived fact. the way i have handled the problem is that i changed the decoration on the cake.  i couldn’t get the smooth top or sides as i originally planned. writing a greeting on a messy top would look awful so i changed the design idea and put flowers everywhere. i could have also done a basket weave technique around the sides. just go with the flow, and don’t get frustrated. aunt martha won’t chuck the cake at you if you don’t write her name on the top this time. remember that you are creating something that is to be eaten so have fun with it.  \r\n",
      "\r\n",
      "different mixers:\r\n",
      "\r\n",
      "if you have a heavy duty counter mixer, you can prepare a whole batch at one time.  if you are using a hand mixer, divide the recipe in half.  if you notice the mixer getting hot, please stop and let the machine cool off.\r\n",
      "\r\n",
      "i also prefer to mix the buttercream on a low setting. it seems that the higher setting do the job faster but you also will get a spongy texture to the icing. i don’t want that quality in my final ice coating or flowers on the cake. \r\n",
      "\r\n",
      "using weight scales:\r\n",
      "\r\n",
      "1 cup of crisco weighs 6 ounces.  \r\n",
      "\r\n",
      "i put a piece of wax paper on my scale and start plopping spoons of shortening on until i get the desired weight. it really saves on the cleanup.  \r\n",
      "\r\n",
      "\r\n",
      "\r\n",
      "recipe from peggy at whatscookingamerica.net\n"
     ]
    }
   ],
   "source": [
    "maxi = 0\n",
    "maximum = []\n",
    "for i in range(recipes.shape[0]):\n",
    "    try:\n",
    "        x = len(sent_tokenize(recipes.loc[i].description))\n",
    "        if x>maxi:\n",
    "            maxi = x\n",
    "            maximum = []\n",
    "            maximum.append(i)\n",
    "        elif maxi==x:\n",
    "            maximum.append(i)\n",
    "    except:\n",
    "        pass\n",
    "print(maxi)     \n",
    "\n",
    "for j in maximum:\n",
    "    print((' ').join(list(recipes.loc[maximum].description.values)).rstrip())"
   ]
  },
  {
   "cell_type": "markdown",
   "metadata": {},
   "source": [
    "8\\. Напишите функцию, которая для заданного предложения выводит информацию о частях речи слов, входящих в предложение, в следующем виде:\n",
    "```\n",
    "PRP   VBD   DT      NNS     CC   VBD      NNS        RB   \n",
    " I  omitted the raspberries and added strawberries instead\n",
    "``` \n",
    "Для определения части речи слова можно воспользоваться `nltk.pos_tag`.\n",
    "\n",
    "Проверьте работоспособность функции на названии рецепта с id 241106.\n",
    "\n",
    "Обратите внимание, что часть речи должна находиться ровно посередине над соотвествующим словом, а между самими словами должен быть ровно один пробел.\n"
   ]
  },
  {
   "cell_type": "code",
   "execution_count": 36,
   "metadata": {},
   "outputs": [
    {
     "name": "stdout",
     "output_type": "stream",
     "text": [
      "PRP \n",
      " I  \n",
      "PRP   VBD   \n",
      " I  omitted \n",
      "PRP   VBD   DT  \n",
      " I  omitted the \n",
      "PRP   VBD   DT      NNS     \n",
      " I  omitted the raspberries \n",
      "PRP   VBD   DT      NNS     CC  \n",
      " I  omitted the raspberries and \n",
      "PRP   VBD   DT      NNS     CC   VBD  \n",
      " I  omitted the raspberries and added \n",
      "PRP   VBD   DT      NNS     CC   VBD      NNS      \n",
      " I  omitted the raspberries and added strawberries \n",
      "PRP   VBD   DT      NNS     CC   VBD      NNS        RB    \n",
      " I  omitted the raspberries and added strawberries instead \n",
      " DT   \n",
      "these \n",
      " DT   VBP \n",
      "these are \n",
      " DT   VBP DT \n",
      "these are a  \n",
      " DT   VBP DT   RB   \n",
      "these are a  really \n",
      " DT   VBP DT   RB    JJ  \n",
      "these are a  really good \n",
      " DT   VBP DT   RB    JJ   NN   \n",
      "these are a  really good quick \n",
      " DT   VBP DT   RB    JJ   NN    NN  \n",
      "these are a  really good quick meal \n",
      " DT   VBP DT   RB    JJ   NN    NN  TO \n",
      "these are a  really good quick meal to \n",
      " DT   VBP DT   RB    JJ   NN    NN  TO  VB  \n",
      "these are a  really good quick meal to make \n",
      " DT   VBP DT   RB    JJ   NN    NN  TO  VB  IN \n",
      "these are a  really good quick meal to make in \n",
      " DT   VBP DT   RB    JJ   NN    NN  TO  VB  IN DT  \n",
      "these are a  really good quick meal to make in the \n",
      " DT   VBP DT   RB    JJ   NN    NN  TO  VB  IN DT      NN     \n",
      "these are a  really good quick meal to make in the summertime \n",
      " DT   VBP DT   RB    JJ   NN    NN  TO  VB  IN DT      NN     WRB  \n",
      "these are a  really good quick meal to make in the summertime when \n",
      " DT   VBP DT   RB    JJ   NN    NN  TO  VB  IN DT      NN     WRB   JJ   \n",
      "these are a  really good quick meal to make in the summertime when local \n",
      " DT   VBP DT   RB    JJ   NN    NN  TO  VB  IN DT      NN     WRB   JJ    NNS  \n",
      "these are a  really good quick meal to make in the summertime when local farms \n",
      " DT   VBP DT   RB    JJ   NN    NN  TO  VB  IN DT      NN     WRB   JJ    NNS  VBP  \n",
      "these are a  really good quick meal to make in the summertime when local farms have \n",
      " DT   VBP DT   RB    JJ   NN    NN  TO  VB  IN DT      NN     WRB   JJ    NNS  VBP   JJ   \n",
      "these are a  really good quick meal to make in the summertime when local farms have fresh \n",
      " DT   VBP DT   RB    JJ   NN    NN  TO  VB  IN DT      NN     WRB   JJ    NNS  VBP   JJ      NN    \n",
      "these are a  really good quick meal to make in the summertime when local farms have fresh eggplant \n",
      " DT   VBP DT   RB    JJ   NN    NN  TO  VB  IN DT      NN     WRB   JJ    NNS  VBP   JJ      NN    CC  \n",
      "these are a  really good quick meal to make in the summertime when local farms have fresh eggplant and \n",
      " DT   VBP DT   RB    JJ   NN    NN  TO  VB  IN DT      NN     WRB   JJ    NNS  VBP   JJ      NN    CC    NNS    \n",
      "these are a  really good quick meal to make in the summertime when local farms have fresh eggplant and tomatoes \n",
      " DT   VBP DT   RB    JJ   NN    NN  TO  VB  IN DT      NN     WRB   JJ    NNS  VBP   JJ      NN    CC    NNS     VBG   \n",
      "these are a  really good quick meal to make in the summertime when local farms have fresh eggplant and tomatoes coming \n",
      " DT   VBP DT   RB    JJ   NN    NN  TO  VB  IN DT      NN     WRB   JJ    NNS  VBP   JJ      NN    CC    NNS     VBG   IN \n",
      "these are a  really good quick meal to make in the summertime when local farms have fresh eggplant and tomatoes coming in \n",
      " DT   VBP DT   RB    JJ   NN    NN  TO  VB  IN DT      NN     WRB   JJ    NNS  VBP   JJ      NN    CC    NNS     VBG   IN . \n",
      "these are a  really good quick meal to make in the summertime when local farms have fresh eggplant and tomatoes coming in . \n",
      " DT   VBP DT   RB    JJ   NN    NN  TO  VB  IN DT      NN     WRB   JJ    NNS  VBP   JJ      NN    CC    NNS     VBG   IN . DT  \n",
      "these are a  really good quick meal to make in the summertime when local farms have fresh eggplant and tomatoes coming in . the \n",
      " DT   VBP DT   RB    JJ   NN    NN  TO  VB  IN DT      NN     WRB   JJ    NNS  VBP   JJ      NN    CC    NNS     VBG   IN . DT    VBG   \n",
      "these are a  really good quick meal to make in the summertime when local farms have fresh eggplant and tomatoes coming in . the topping \n",
      " DT   VBP DT   RB    JJ   NN    NN  TO  VB  IN DT      NN     WRB   JJ    NNS  VBP   JJ      NN    CC    NNS     VBG   IN . DT    VBG    VBN  \n",
      "these are a  really good quick meal to make in the summertime when local farms have fresh eggplant and tomatoes coming in . the topping given \n",
      " DT   VBP DT   RB    JJ   NN    NN  TO  VB  IN DT      NN     WRB   JJ    NNS  VBP   JJ      NN    CC    NNS     VBG   IN . DT    VBG    VBN  VBZ \n",
      "these are a  really good quick meal to make in the summertime when local farms have fresh eggplant and tomatoes coming in . the topping given is  \n",
      " DT   VBP DT   RB    JJ   NN    NN  TO  VB  IN DT      NN     WRB   JJ    NNS  VBP   JJ      NN    CC    NNS     VBG   IN . DT    VBG    VBN  VBZ DT \n",
      "these are a  really good quick meal to make in the summertime when local farms have fresh eggplant and tomatoes coming in . the topping given is  a  \n",
      " DT   VBP DT   RB    JJ   NN    NN  TO  VB  IN DT      NN     WRB   JJ    NNS  VBP   JJ      NN    CC    NNS     VBG   IN . DT    VBG    VBN  VBZ DT     NN     \n",
      "these are a  really good quick meal to make in the summertime when local farms have fresh eggplant and tomatoes coming in . the topping given is  a  suggestion \n",
      " DT   VBP DT   RB    JJ   NN    NN  TO  VB  IN DT      NN     WRB   JJ    NNS  VBP   JJ      NN    CC    NNS     VBG   IN . DT    VBG    VBN  VBZ DT     NN     , \n",
      "these are a  really good quick meal to make in the summertime when local farms have fresh eggplant and tomatoes coming in . the topping given is  a  suggestion , \n",
      " DT   VBP DT   RB    JJ   NN    NN  TO  VB  IN DT      NN     WRB   JJ    NNS  VBP   JJ      NN    CC    NNS     VBG   IN . DT    VBG    VBN  VBZ DT     NN     , CC  \n",
      "these are a  really good quick meal to make in the summertime when local farms have fresh eggplant and tomatoes coming in . the topping given is  a  suggestion , but \n",
      " DT   VBP DT   RB    JJ   NN    NN  TO  VB  IN DT      NN     WRB   JJ    NNS  VBP   JJ      NN    CC    NNS     VBG   IN . DT    VBG    VBN  VBZ DT     NN     , CC   EX   \n",
      "these are a  really good quick meal to make in the summertime when local farms have fresh eggplant and tomatoes coming in . the topping given is  a  suggestion , but there \n",
      " DT   VBP DT   RB    JJ   NN    NN  TO  VB  IN DT      NN     WRB   JJ    NNS  VBP   JJ      NN    CC    NNS     VBG   IN . DT    VBG    VBN  VBZ DT     NN     , CC   EX   VBP \n",
      "these are a  really good quick meal to make in the summertime when local farms have fresh eggplant and tomatoes coming in . the topping given is  a  suggestion , but there are \n",
      " DT   VBP DT   RB    JJ   NN    NN  TO  VB  IN DT      NN     WRB   JJ    NNS  VBP   JJ      NN    CC    NNS     VBG   IN . DT    VBG    VBN  VBZ DT     NN     , CC   EX   VBP    RB     \n",
      "these are a  really good quick meal to make in the summertime when local farms have fresh eggplant and tomatoes coming in . the topping given is  a  suggestion , but there are certainly \n",
      " DT   VBP DT   RB    JJ   NN    NN  TO  VB  IN DT      NN     WRB   JJ    NNS  VBP   JJ      NN    CC    NNS     VBG   IN . DT    VBG    VBN  VBZ DT     NN     , CC   EX   VBP    RB      JJ  \n",
      "these are a  really good quick meal to make in the summertime when local farms have fresh eggplant and tomatoes coming in . the topping given is  a  suggestion , but there are certainly many \n",
      " DT   VBP DT   RB    JJ   NN    NN  TO  VB  IN DT      NN     WRB   JJ    NNS  VBP   JJ      NN    CC    NNS     VBG   IN . DT    VBG    VBN  VBZ DT     NN     , CC   EX   VBP    RB      JJ  JJR  \n",
      "these are a  really good quick meal to make in the summertime when local farms have fresh eggplant and tomatoes coming in . the topping given is  a  suggestion , but there are certainly many more \n",
      " DT   VBP DT   RB    JJ   NN    NN  TO  VB  IN DT      NN     WRB   JJ    NNS  VBP   JJ      NN    CC    NNS     VBG   IN . DT    VBG    VBN  VBZ DT     NN     , CC   EX   VBP    RB      JJ  JJR  NNS  \n",
      "these are a  really good quick meal to make in the summertime when local farms have fresh eggplant and tomatoes coming in . the topping given is  a  suggestion , but there are certainly many more ways \n",
      " DT   VBP DT   RB    JJ   NN    NN  TO  VB  IN DT      NN     WRB   JJ    NNS  VBP   JJ      NN    CC    NNS     VBG   IN . DT    VBG    VBN  VBZ DT     NN     , CC   EX   VBP    RB      JJ  JJR  NNS  TO \n",
      "these are a  really good quick meal to make in the summertime when local farms have fresh eggplant and tomatoes coming in . the topping given is  a  suggestion , but there are certainly many more ways to \n",
      " DT   VBP DT   RB    JJ   NN    NN  TO  VB  IN DT      NN     WRB   JJ    NNS  VBP   JJ      NN    CC    NNS     VBG   IN . DT    VBG    VBN  VBZ DT     NN     , CC   EX   VBP    RB      JJ  JJR  NNS  TO  VB   \n",
      "these are a  really good quick meal to make in the summertime when local farms have fresh eggplant and tomatoes coming in . the topping given is  a  suggestion , but there are certainly many more ways to enjoy \n",
      " DT   VBP DT   RB    JJ   NN    NN  TO  VB  IN DT      NN     WRB   JJ    NNS  VBP   JJ      NN    CC    NNS     VBG   IN . DT    VBG    VBN  VBZ DT     NN     , CC   EX   VBP    RB      JJ  JJR  NNS  TO  VB    DT  \n",
      "these are a  really good quick meal to make in the summertime when local farms have fresh eggplant and tomatoes coming in . the topping given is  a  suggestion , but there are certainly many more ways to enjoy this \n",
      " DT   VBP DT   RB    JJ   NN    NN  TO  VB  IN DT      NN     WRB   JJ    NNS  VBP   JJ      NN    CC    NNS     VBG   IN . DT    VBG    VBN  VBZ DT     NN     , CC   EX   VBP    RB      JJ  JJR  NNS  TO  VB    DT   NN  \n",
      "these are a  really good quick meal to make in the summertime when local farms have fresh eggplant and tomatoes coming in . the topping given is  a  suggestion , but there are certainly many more ways to enjoy this dish \n",
      " DT   VBP DT   RB    JJ   NN    NN  TO  VB  IN DT      NN     WRB   JJ    NNS  VBP   JJ      NN    CC    NNS     VBG   IN . DT    VBG    VBN  VBZ DT     NN     , CC   EX   VBP    RB      JJ  JJR  NNS  TO  VB    DT   NN  . \n",
      "these are a  really good quick meal to make in the summertime when local farms have fresh eggplant and tomatoes coming in . the topping given is  a  suggestion , but there are certainly many more ways to enjoy this dish . \n",
      " DT   VBP DT   RB    JJ   NN    NN  TO  VB  IN DT      NN     WRB   JJ    NNS  VBP   JJ      NN    CC    NNS     VBG   IN . DT    VBG    VBN  VBZ DT     NN     , CC   EX   VBP    RB      JJ  JJR  NNS  TO  VB    DT   NN  .  VB   \n",
      "these are a  really good quick meal to make in the summertime when local farms have fresh eggplant and tomatoes coming in . the topping given is  a  suggestion , but there are certainly many more ways to enjoy this dish . start \n",
      " DT   VBP DT   RB    JJ   NN    NN  TO  VB  IN DT      NN     WRB   JJ    NNS  VBP   JJ      NN    CC    NNS     VBG   IN . DT    VBG    VBN  VBZ DT     NN     , CC   EX   VBP    RB      JJ  JJR  NNS  TO  VB    DT   NN  .  VB   IN  \n",
      "these are a  really good quick meal to make in the summertime when local farms have fresh eggplant and tomatoes coming in . the topping given is  a  suggestion , but there are certainly many more ways to enjoy this dish . start out \n",
      " DT   VBP DT   RB    JJ   NN    NN  TO  VB  IN DT      NN     WRB   JJ    NNS  VBP   JJ      NN    CC    NNS     VBG   IN . DT    VBG    VBN  VBZ DT     NN     , CC   EX   VBP    RB      JJ  JJR  NNS  TO  VB    DT   NN  .  VB   IN   IN  \n",
      "these are a  really good quick meal to make in the summertime when local farms have fresh eggplant and tomatoes coming in . the topping given is  a  suggestion , but there are certainly many more ways to enjoy this dish . start out with \n",
      " DT   VBP DT   RB    JJ   NN    NN  TO  VB  IN DT      NN     WRB   JJ    NNS  VBP   JJ      NN    CC    NNS     VBG   IN . DT    VBG    VBN  VBZ DT     NN     , CC   EX   VBP    RB      JJ  JJR  NNS  TO  VB    DT   NN  .  VB   IN   IN  DT  \n",
      "these are a  really good quick meal to make in the summertime when local farms have fresh eggplant and tomatoes coming in . the topping given is  a  suggestion , but there are certainly many more ways to enjoy this dish . start out with the \n",
      " DT   VBP DT   RB    JJ   NN    NN  TO  VB  IN DT      NN     WRB   JJ    NNS  VBP   JJ      NN    CC    NNS     VBG   IN . DT    VBG    VBN  VBZ DT     NN     , CC   EX   VBP    RB      JJ  JJR  NNS  TO  VB    DT   NN  .  VB   IN   IN  DT     JJ    \n",
      "these are a  really good quick meal to make in the summertime when local farms have fresh eggplant and tomatoes coming in . the topping given is  a  suggestion , but there are certainly many more ways to enjoy this dish . start out with the eggplant \n",
      " DT   VBP DT   RB    JJ   NN    NN  TO  VB  IN DT      NN     WRB   JJ    NNS  VBP   JJ      NN    CC    NNS     VBG   IN . DT    VBG    VBN  VBZ DT     NN     , CC   EX   VBP    RB      JJ  JJR  NNS  TO  VB    DT   NN  .  VB   IN   IN  DT     JJ     NNS   \n",
      "these are a  really good quick meal to make in the summertime when local farms have fresh eggplant and tomatoes coming in . the topping given is  a  suggestion , but there are certainly many more ways to enjoy this dish . start out with the eggplant steaks \n",
      " DT   VBP DT   RB    JJ   NN    NN  TO  VB  IN DT      NN     WRB   JJ    NNS  VBP   JJ      NN    CC    NNS     VBG   IN . DT    VBG    VBN  VBZ DT     NN     , CC   EX   VBP    RB      JJ  JJR  NNS  TO  VB    DT   NN  .  VB   IN   IN  DT     JJ     NNS   CC  \n",
      "these are a  really good quick meal to make in the summertime when local farms have fresh eggplant and tomatoes coming in . the topping given is  a  suggestion , but there are certainly many more ways to enjoy this dish . start out with the eggplant steaks and \n",
      " DT   VBP DT   RB    JJ   NN    NN  TO  VB  IN DT      NN     WRB   JJ    NNS  VBP   JJ      NN    CC    NNS     VBG   IN . DT    VBG    VBN  VBZ DT     NN     , CC   EX   VBP    RB      JJ  JJR  NNS  TO  VB    DT   NN  .  VB   IN   IN  DT     JJ     NNS   CC   RB  \n",
      "these are a  really good quick meal to make in the summertime when local farms have fresh eggplant and tomatoes coming in . the topping given is  a  suggestion , but there are certainly many more ways to enjoy this dish . start out with the eggplant steaks and then \n",
      " DT   VBP DT   RB    JJ   NN    NN  TO  VB  IN DT      NN     WRB   JJ    NNS  VBP   JJ      NN    CC    NNS     VBG   IN . DT    VBG    VBN  VBZ DT     NN     , CC   EX   VBP    RB      JJ  JJR  NNS  TO  VB    DT   NN  .  VB   IN   IN  DT     JJ     NNS   CC   RB  VB  \n",
      "these are a  really good quick meal to make in the summertime when local farms have fresh eggplant and tomatoes coming in . the topping given is  a  suggestion , but there are certainly many more ways to enjoy this dish . start out with the eggplant steaks and then top \n",
      " DT   VBP DT   RB    JJ   NN    NN  TO  VB  IN DT      NN     WRB   JJ    NNS  VBP   JJ      NN    CC    NNS     VBG   IN . DT    VBG    VBN  VBZ DT     NN     , CC   EX   VBP    RB      JJ  JJR  NNS  TO  VB    DT   NN  .  VB   IN   IN  DT     JJ     NNS   CC   RB  VB   IN  \n",
      "these are a  really good quick meal to make in the summertime when local farms have fresh eggplant and tomatoes coming in . the topping given is  a  suggestion , but there are certainly many more ways to enjoy this dish . start out with the eggplant steaks and then top with \n",
      " DT   VBP DT   RB    JJ   NN    NN  TO  VB  IN DT      NN     WRB   JJ    NNS  VBP   JJ      NN    CC    NNS     VBG   IN . DT    VBG    VBN  VBZ DT     NN     , CC   EX   VBP    RB      JJ  JJR  NNS  TO  VB    DT   NN  .  VB   IN   IN  DT     JJ     NNS   CC   RB  VB   IN   WP  \n",
      "these are a  really good quick meal to make in the summertime when local farms have fresh eggplant and tomatoes coming in . the topping given is  a  suggestion , but there are certainly many more ways to enjoy this dish . start out with the eggplant steaks and then top with what \n",
      " DT   VBP DT   RB    JJ   NN    NN  TO  VB  IN DT      NN     WRB   JJ    NNS  VBP   JJ      NN    CC    NNS     VBG   IN . DT    VBG    VBN  VBZ DT     NN     , CC   EX   VBP    RB      JJ  JJR  NNS  TO  VB    DT   NN  .  VB   IN   IN  DT     JJ     NNS   CC   RB  VB   IN   WP   VBZ   \n",
      "these are a  really good quick meal to make in the summertime when local farms have fresh eggplant and tomatoes coming in . the topping given is  a  suggestion , but there are certainly many more ways to enjoy this dish . start out with the eggplant steaks and then top with what sounds \n",
      " DT   VBP DT   RB    JJ   NN    NN  TO  VB  IN DT      NN     WRB   JJ    NNS  VBP   JJ      NN    CC    NNS     VBG   IN . DT    VBG    VBN  VBZ DT     NN     , CC   EX   VBP    RB      JJ  JJR  NNS  TO  VB    DT   NN  .  VB   IN   IN  DT     JJ     NNS   CC   RB  VB   IN   WP   VBZ    JJ  \n",
      "these are a  really good quick meal to make in the summertime when local farms have fresh eggplant and tomatoes coming in . the topping given is  a  suggestion , but there are certainly many more ways to enjoy this dish . start out with the eggplant steaks and then top with what sounds good \n",
      " DT   VBP DT   RB    JJ   NN    NN  TO  VB  IN DT      NN     WRB   JJ    NNS  VBP   JJ      NN    CC    NNS     VBG   IN . DT    VBG    VBN  VBZ DT     NN     , CC   EX   VBP    RB      JJ  JJR  NNS  TO  VB    DT   NN  .  VB   IN   IN  DT     JJ     NNS   CC   RB  VB   IN   WP   VBZ    JJ  TO \n",
      "these are a  really good quick meal to make in the summertime when local farms have fresh eggplant and tomatoes coming in . the topping given is  a  suggestion , but there are certainly many more ways to enjoy this dish . start out with the eggplant steaks and then top with what sounds good to \n",
      " DT   VBP DT   RB    JJ   NN    NN  TO  VB  IN DT      NN     WRB   JJ    NNS  VBP   JJ      NN    CC    NNS     VBG   IN . DT    VBG    VBN  VBZ DT     NN     , CC   EX   VBP    RB      JJ  JJR  NNS  TO  VB    DT   NN  .  VB   IN   IN  DT     JJ     NNS   CC   RB  VB   IN   WP   VBZ    JJ  TO PRP \n",
      "these are a  really good quick meal to make in the summertime when local farms have fresh eggplant and tomatoes coming in . the topping given is  a  suggestion , but there are certainly many more ways to enjoy this dish . start out with the eggplant steaks and then top with what sounds good to you \n",
      " DT   VBP DT   RB    JJ   NN    NN  TO  VB  IN DT      NN     WRB   JJ    NNS  VBP   JJ      NN    CC    NNS     VBG   IN . DT    VBG    VBN  VBZ DT     NN     , CC   EX   VBP    RB      JJ  JJR  NNS  TO  VB    DT   NN  .  VB   IN   IN  DT     JJ     NNS   CC   RB  VB   IN   WP   VBZ    JJ  TO PRP . \n",
      "these are a  really good quick meal to make in the summertime when local farms have fresh eggplant and tomatoes coming in . the topping given is  a  suggestion , but there are certainly many more ways to enjoy this dish . start out with the eggplant steaks and then top with what sounds good to you . \n"
     ]
    }
   ],
   "source": [
    "from nltk import pos_tag, word_tokenize\n",
    "\n",
    "def f(strr):\n",
    "    sentence = nltk.tokenize.word_tokenize(strr)\n",
    "    f = ''\n",
    "    f1 = ''\n",
    "    part_of_speech =  [j[1] for j in pos_tag(word_tokenize(strr))]\n",
    "\n",
    "    for i in range(len(sentence)):\n",
    "        d =max(len(sentence[i]),len(part_of_speech[i])) \n",
    "        f1+=f'{sentence[i]:^{d}}'+' '\n",
    "        f+=f'{part_of_speech[i]:^{d}}'+' '\n",
    "        print(f)\n",
    "        print(f1)\n",
    "    \n",
    "    \n",
    "f(' I  omitted the raspberries and added strawberries instead')\n",
    "f((' ').join(list(recipes[recipes['id']==241106].description.values)))"
   ]
  },
  {
   "cell_type": "code",
   "execution_count": null,
   "metadata": {},
   "outputs": [],
   "source": []
  }
 ],
 "metadata": {
  "kernelspec": {
   "display_name": "Python 3 (ipykernel)",
   "language": "python",
   "name": "python3"
  },
  "language_info": {
   "codemirror_mode": {
    "name": "ipython",
    "version": 3
   },
   "file_extension": ".py",
   "mimetype": "text/x-python",
   "name": "python",
   "nbconvert_exporter": "python",
   "pygments_lexer": "ipython3",
   "version": "3.9.12"
  }
 },
 "nbformat": 4,
 "nbformat_minor": 4
}
